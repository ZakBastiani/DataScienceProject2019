{
 "cells": [
  {
   "cell_type": "markdown",
   "metadata": {},
   "source": [
    "# ***Data Processing***"
   ]
  },
  {
   "cell_type": "code",
   "execution_count": 36,
   "metadata": {
    "collapsed": true
   },
   "outputs": [],
   "source": [
    "# imports and setup \n",
    "import pandas as pd\n",
    "import scipy as sc\n",
    "import numpy as np\n",
    "\n",
    "import re\n",
    "\n",
    "import matplotlib.pyplot as plt"
   ]
  },
  {
   "cell_type": "code",
   "execution_count": 51,
   "metadata": {},
   "outputs": [
    {
     "name": "stdout",
     "output_type": "stream",
     "text": [
      "Name                   object\n",
      "Year                  float64\n",
      "Genres                 object\n",
      "Rating                 object\n",
      "Duration              float64\n",
      "Actors                 object\n",
      "Director               object\n",
      "Average Rating        float64\n",
      "Budget                 object\n",
      "Opening Weekend       float64\n",
      "Gross US              float64\n",
      "Gross WW              float64\n",
      "Language               object\n",
      "Production Company     object\n",
      "dtype: object\n"
     ]
    }
   ],
   "source": [
    "movies = pd.DataFrame(pd.read_csv(\"movies.csv\"))\n",
    "movies = movies.drop(['Unnamed: 0'], axis=1)\n",
    "\n",
    "movies.loc[movies[\"Year\"] == '    ', ['Year']] = 0 \n",
    "movies[\"Year\"] = movies[\"Year\"].fillna(-1)\n",
    "movies[\"Year\"] = movies[\"Year\"].astype(float)\n",
    "\n",
    "#movies[\"Budget\"] = movies[\"Budget\"].str.replace(',','')\n",
    "movies[\"Budget\"] = movies[\"Budget\"].fillna(-1)\n",
    "#movies[\"Budget\"] = movies[\"Budget\"].astype(float)\n",
    "\n",
    "movies[\"Gross US\"] = movies[\"Gross US\"].str.replace(',','')\n",
    "movies[\"Gross US\"] = movies[\"Gross US\"].fillna(-1)\n",
    "movies[\"Gross US\"] = movies[\"Gross US\"].astype(float)\n",
    "\n",
    "movies[\"Gross WW\"] = movies[\"Gross WW\"].str.replace(',','')\n",
    "movies[\"Gross WW\"] = movies[\"Gross WW\"].fillna(-1)\n",
    "movies[\"Gross WW\"] = movies[\"Gross WW\"].astype(float)\n",
    "\n",
    "print(movies.dtypes)"
   ]
  },
  {
   "cell_type": "code",
   "execution_count": 52,
   "metadata": {},
   "outputs": [
    {
     "data": {
      "image/png": "[encoded data removed]",
      "text/plain": [
       "<matplotlib.figure.Figure at 0x1e7538d18d0>"
      ]
     },
     "metadata": {},
     "output_type": "display_data"
    },
    {
     "name": "stdout",
     "output_type": "stream",
     "text": [
      "0       1994.0\n",
      "1       2014.0\n",
      "2       1994.0\n",
      "3       1977.0\n",
      "4       1985.0\n",
      "5       1985.0\n",
      "6       1985.0\n",
      "7       1991.0\n",
      "8       1993.0\n",
      "9       1994.0\n",
      "10      1995.0\n",
      "11      1995.0\n",
      "12      1998.0\n",
      "13      1998.0\n",
      "14      1999.0\n",
      "15      1999.0\n",
      "16      1999.0\n",
      "17      2000.0\n",
      "18      2000.0\n",
      "19      2001.0\n",
      "20      2002.0\n",
      "21      2002.0\n",
      "22      2003.0\n",
      "23      2003.0\n",
      "24      2004.0\n",
      "25      2004.0\n",
      "26      2005.0\n",
      "27      2005.0\n",
      "28      2005.0\n",
      "29      2006.0\n",
      "         ...  \n",
      "9807    2014.0\n",
      "9808    2015.0\n",
      "9809    2014.0\n",
      "9810    2015.0\n",
      "9811       0.0\n",
      "9812       0.0\n",
      "9813    2018.0\n",
      "9814    2015.0\n",
      "9815       0.0\n",
      "9816    2015.0\n",
      "9817    2016.0\n",
      "9818    2015.0\n",
      "9819       0.0\n",
      "9820       0.0\n",
      "9821       0.0\n",
      "9822       0.0\n",
      "9823       0.0\n",
      "9824    2019.0\n",
      "9825    2014.0\n",
      "9826       0.0\n",
      "9827    2015.0\n",
      "9828    2016.0\n",
      "9829       0.0\n",
      "9830    2015.0\n",
      "9831    2015.0\n",
      "9832    2016.0\n",
      "9833    2017.0\n",
      "9834       0.0\n",
      "9835    2017.0\n",
      "9836       0.0\n",
      "Name: Year, Length: 9837, dtype: float64\n"
     ]
    }
   ],
   "source": [
    "plt.scatter(movies[\"Year\"], movies[\"Average Rating\"], alpha=0.5)\n",
    "plt.show()"
   ]
  },
  {
   "cell_type": "code",
   "execution_count": null,
   "metadata": {
    "collapsed": true
   },
   "outputs": [],
   "source": []
  },
  {
   "cell_type": "code",
   "execution_count": null,
   "metadata": {
    "collapsed": true
   },
   "outputs": [],
   "source": []
  }
 ],
 "metadata": {
  "kernelspec": {
   "display_name": "Python 3",
   "language": "python",
   "name": "python3"
  },
  "language_info": {
   "codemirror_mode": {
    "name": "ipython",
    "version": 3
   },
   "file_extension": ".py",
   "mimetype": "text/x-python",
   "name": "python",
   "nbconvert_exporter": "python",
   "pygments_lexer": "ipython3",
   "version": "3.6.1"
  }
 },
 "nbformat": 4,
 "nbformat_minor": 2
}
