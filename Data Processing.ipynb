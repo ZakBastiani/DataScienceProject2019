{
 "cells": [
  {
   "cell_type": "markdown",
   "metadata": {},
   "source": [
    "# ***Data Processing***"
   ]
  },
  {
   "cell_type": "code",
   "execution_count": null,
   "metadata": {},
   "outputs": [],
   "source": [
    "# imports and setup \n",
    "import pandas as pd\n",
    "import scipy as sc\n",
    "import numpy as np\n",
    "import seaborn as sns\n",
    "import re\n",
    "import matplotlib.pyplot as plt\n",
    "from sklearn.preprocessing import StandardScaler"
   ]
  },
  {
   "cell_type": "code",
   "execution_count": null,
   "metadata": {},
   "outputs": [],
   "source": [
    "movies = pd.DataFrame(pd.read_csv(\"movies.csv\"))\n",
    "movies = movies.drop(['Unnamed: 0'], axis=1)\n",
    "\n",
    "movies.loc[movies[\"Year\"] == '    ', ['Year']] = 0 \n",
    "movies[\"Year\"] = movies[\"Year\"].fillna(-1)\n",
    "movies[\"Year\"] = movies[\"Year\"].astype(float)\n",
    "\n",
    "movies = movies[~movies['Budget'].astype(str).str.contains('Budget:')]\n",
    "movies = movies[~movies['Budget'].astype(str).str.contains('Trivia')]\n",
    "movies[\"Budget\"] = movies[\"Budget\"].str.replace(',','')\n",
    "movies[\"Budget\"] = movies[\"Budget\"].fillna(-1)\n",
    "movies[\"Budget\"] = movies[\"Budget\"].astype(float)\n",
    "\n",
    "movies[\"Gross US\"] = movies[\"Gross US\"].str.replace(',','')\n",
    "movies[\"Gross US\"] = movies[\"Gross US\"].fillna(-1)\n",
    "movies[\"Gross US\"] = movies[\"Gross US\"].astype(float)\n",
    "\n",
    "movies[\"Gross WW\"] = movies[\"Gross WW\"].str.replace(',','')\n",
    "movies[\"Gross WW\"] = movies[\"Gross WW\"].fillna(-1)\n",
    "movies[\"Gross WW\"] = movies[\"Gross WW\"].astype(float)\n",
    "\n",
    "movies[\"Language\"] = movies[\"Language\"].fillna(-1)\n",
    "\n",
    "movies[\"Rating\"] = movies[\"Rating\"].fillna('Unrated')\n",
    "\n",
    "movies[\"Duration\"] = movies[\"Duration\"].fillna(-1)\n",
    "movies=movies.rename(columns = {'Duration':'Duration_Minutes'})\n",
    "\n",
    "movies=movies.rename(columns = {'Average Rating':'Average_Rating'})\n",
    "print(movies.dtypes)"
   ]
  },
  {
   "cell_type": "markdown",
   "metadata": {},
   "source": [
    "Filling NA with median value"
   ]
  },
  {
   "cell_type": "code",
   "execution_count": null,
   "metadata": {},
   "outputs": [],
   "source": [
    "# def fill_nan(col):\n",
    "#     movies[col] = movies[col].fillna(movies[col].median())\n",
    "\n",
    "# cols = list(movies.columns)\n",
    "# fill_nan(cols)"
   ]
  },
  {
   "cell_type": "code",
   "execution_count": null,
   "metadata": {},
   "outputs": [],
   "source": [
    "movies.columns"
   ]
  },
  {
   "cell_type": "code",
   "execution_count": null,
   "metadata": {},
   "outputs": [],
   "source": [
    "movies.head()"
   ]
  },
  {
   "cell_type": "code",
   "execution_count": null,
   "metadata": {},
   "outputs": [],
   "source": [
    "# col = list(movies.describe().columns)\n",
    "# sc = StandardScaler()\n",
    "# temp = sc.fit_transform(movies[col])\n",
    "# movies[col] = temp\n",
    "# movies.head()"
   ]
  },
  {
   "cell_type": "code",
   "execution_count": null,
   "metadata": {},
   "outputs": [],
   "source": [
    "movies.isnull().sum()"
   ]
  },
  {
   "cell_type": "code",
   "execution_count": null,
   "metadata": {},
   "outputs": [],
   "source": [
    "to_drop = [2020,2021,2024] #Removing future releases (no data available)\n",
    "movies=movies[~movies['Year'].isin(to_drop)] "
   ]
  },
  {
   "cell_type": "code",
   "execution_count": null,
   "metadata": {},
   "outputs": [],
   "source": [
    "movies['Rating'] = movies['Rating'].replace({'Not Rated':'Unrated'})\n",
    "\n",
    "movies[\"Rating\"].value_counts()"
   ]
  },
  {
   "cell_type": "code",
   "execution_count": null,
   "metadata": {},
   "outputs": [],
   "source": [
    "drop_tv = ['TV-14' ,'TV-G', 'TV-MA', 'TV-Y', 'TV-PG' , 'TV-Y7' , 'GP' , 'Passed' , 'X' ]  #Removing TV shows/X rated movies\n",
    "movies=movies[~movies['Rating'].isin(drop_tv)] "
   ]
  },
  {
   "cell_type": "code",
   "execution_count": null,
   "metadata": {},
   "outputs": [],
   "source": [
    "movies.info()"
   ]
  },
  {
   "cell_type": "code",
   "execution_count": null,
   "metadata": {},
   "outputs": [],
   "source": [
    "import random\n",
    "from wordcloud import WordCloud, STOPWORDS\n",
    "text = (str(movies['Actors']))\n",
    "plt.subplots(figsize=(20,15))\n",
    "wordcloud = WordCloud(\n",
    "                          stopwords=STOPWORDS,\n",
    "                          background_color='white',\n",
    "                          width=1500,\n",
    "                          height=1200\n",
    "                         ).generate(text)\n",
    "\n",
    "\n",
    "plt.imshow(wordcloud)\n",
    "plt.title('Actors')\n",
    "plt.axis('off')\n",
    "plt.show()"
   ]
  },
  {
   "cell_type": "code",
   "execution_count": null,
   "metadata": {},
   "outputs": [],
   "source": [
    "# movies[\"Genres\"].value_counts()"
   ]
  },
  {
   "cell_type": "code",
   "execution_count": null,
   "metadata": {},
   "outputs": [],
   "source": [
    "# seperate_genre='Action','Adventure','Animation','Biography','Comedy','Crime','Drama','Fantasy','Family','History','Horror','Music','Musical','Mystery','Romance','Sci-Fi','Sport','Thriller','War','Western'\n",
    "# for genre in seperate_genre:\n",
    "#     df = movies['Genres'].str.contains(genre).fillna(False)\n",
    "#    # print('The total number of movies with ',Genres,'=',len(movies[df]))\n",
    "#     f, ax = plt.subplots(figsize=(20, 20))\n",
    "#     sns.countplot(x='Year', data=movies[df], palette=\"Greens_d\");\n",
    "#     plt.title(genre)\n",
    "   "
   ]
  },
  {
   "cell_type": "code",
   "execution_count": null,
   "metadata": {},
   "outputs": [],
   "source": [
    "# movies.Director.value_counts()[:10].plot.pie(autopct='%1.1f%%',figsize=(10,10))\n",
    "# # plt.title('TOP 10 Directors OF MOVIES')"
   ]
  },
  {
   "cell_type": "code",
   "execution_count": null,
   "metadata": {},
   "outputs": [],
   "source": [
    "# movies.Actors.value_counts()[:10].plot.pie(autopct='%1.1f%%',figsize=(10,10))\n",
    "# plt.title('TOP 10 Actors OF MOVIES')"
   ]
  },
  {
   "cell_type": "code",
   "execution_count": null,
   "metadata": {},
   "outputs": [],
   "source": [
    "movies[\"Year\"].value_counts().to_frame()"
   ]
  },
  {
   "cell_type": "code",
   "execution_count": 1,
   "metadata": {},
   "outputs": [
    {
     "ename": "NameError",
     "evalue": "name 'movies' is not defined",
     "output_type": "error",
     "traceback": [
      "\u001b[1;31m---------------------------------------------------------------------------\u001b[0m",
      "\u001b[1;31mNameError\u001b[0m                                 Traceback (most recent call last)",
      "\u001b[1;32m<ipython-input-1-9304d34cac26>\u001b[0m in \u001b[0;36m<module>\u001b[1;34m()\u001b[0m\n\u001b[1;32m----> 1\u001b[1;33m \u001b[0mmovies_09_19\u001b[0m\u001b[1;33m=\u001b[0m\u001b[0mmovies\u001b[0m\u001b[1;33m[\u001b[0m\u001b[1;33m(\u001b[0m\u001b[1;36m2020\u001b[0m \u001b[1;33m<\u001b[0m \u001b[0mmovies\u001b[0m\u001b[1;33m[\u001b[0m\u001b[1;34m'Year'\u001b[0m\u001b[1;33m]\u001b[0m\u001b[1;33m)\u001b[0m \u001b[1;33m&\u001b[0m \u001b[1;33m(\u001b[0m\u001b[0mmovies\u001b[0m\u001b[1;33m[\u001b[0m\u001b[1;34m'Year'\u001b[0m\u001b[1;33m]\u001b[0m \u001b[1;33m>\u001b[0m \u001b[1;36m2010\u001b[0m\u001b[1;33m)\u001b[0m\u001b[1;33m]\u001b[0m\u001b[1;33m\u001b[0m\u001b[0m\n\u001b[0m",
      "\u001b[1;31mNameError\u001b[0m: name 'movies' is not defined"
     ]
    }
   ],
   "source": [
    "movies_09_19=movies[(2020 < movies['Year']) & (movies['Year'] > 2010)]"
   ]
  },
  {
   "cell_type": "code",
   "execution_count": 2,
   "metadata": {
    "scrolled": false
   },
   "outputs": [
    {
     "ename": "NameError",
     "evalue": "name 'movies' is not defined",
     "output_type": "error",
     "traceback": [
      "\u001b[1;31m---------------------------------------------------------------------------\u001b[0m",
      "\u001b[1;31mNameError\u001b[0m                                 Traceback (most recent call last)",
      "\u001b[1;32m<ipython-input-2-17db29d7de60>\u001b[0m in \u001b[0;36m<module>\u001b[1;34m()\u001b[0m\n\u001b[0;32m      1\u001b[0m \u001b[1;31m#top 10 rating movies\u001b[0m\u001b[1;33m\u001b[0m\u001b[1;33m\u001b[0m\u001b[0m\n\u001b[1;32m----> 2\u001b[1;33m \u001b[0mSortedrating\u001b[0m\u001b[1;33m=\u001b[0m \u001b[0mmovies\u001b[0m\u001b[1;33m.\u001b[0m\u001b[0msort_values\u001b[0m\u001b[1;33m(\u001b[0m\u001b[1;33m[\u001b[0m\u001b[1;34m'Average_Rating'\u001b[0m\u001b[1;33m]\u001b[0m\u001b[1;33m,\u001b[0m \u001b[0mascending\u001b[0m\u001b[1;33m=\u001b[0m\u001b[1;32mFalse\u001b[0m\u001b[1;33m)\u001b[0m\u001b[1;33m\u001b[0m\u001b[0m\n\u001b[0m\u001b[0;32m      3\u001b[0m \u001b[0mSortedrating\u001b[0m\u001b[1;33m.\u001b[0m\u001b[0mhead\u001b[0m\u001b[1;33m(\u001b[0m\u001b[1;36m10\u001b[0m\u001b[1;33m)\u001b[0m\u001b[1;33m\u001b[0m\u001b[0m\n",
      "\u001b[1;31mNameError\u001b[0m: name 'movies' is not defined"
     ]
    }
   ],
   "source": [
    "#top 10 rating movies \n",
    "Sortedrating= movies.sort_values(['Average_Rating'], ascending=False)\n",
    "Sortedrating.head(10)"
   ]
  },
  {
   "cell_type": "code",
   "execution_count": 3,
   "metadata": {},
   "outputs": [
    {
     "ename": "NameError",
     "evalue": "name 'movies' is not defined",
     "output_type": "error",
     "traceback": [
      "\u001b[1;31m---------------------------------------------------------------------------\u001b[0m",
      "\u001b[1;31mNameError\u001b[0m                                 Traceback (most recent call last)",
      "\u001b[1;32m<ipython-input-3-454dfc3eb94e>\u001b[0m in \u001b[0;36m<module>\u001b[1;34m()\u001b[0m\n\u001b[0;32m      1\u001b[0m \u001b[1;31m# low rated movies\u001b[0m\u001b[1;33m\u001b[0m\u001b[1;33m\u001b[0m\u001b[0m\n\u001b[1;32m----> 2\u001b[1;33m \u001b[0mlowratedmovies\u001b[0m\u001b[1;33m=\u001b[0m \u001b[0mmovies\u001b[0m\u001b[1;33m.\u001b[0m\u001b[0mquery\u001b[0m\u001b[1;33m(\u001b[0m\u001b[1;34m'(Average_Rating > 0) & (Average_Rating < 3.0)'\u001b[0m\u001b[1;33m)\u001b[0m\u001b[1;33m\u001b[0m\u001b[0m\n\u001b[0m\u001b[0;32m      3\u001b[0m \u001b[0mlowratedmovies\u001b[0m\u001b[1;33m.\u001b[0m\u001b[0mhead\u001b[0m\u001b[1;33m(\u001b[0m\u001b[1;33m)\u001b[0m\u001b[1;33m\u001b[0m\u001b[0m\n",
      "\u001b[1;31mNameError\u001b[0m: name 'movies' is not defined"
     ]
    }
   ],
   "source": [
    "# low rated movies\n",
    "lowratedmovies= movies.query('(Average_Rating > 0) & (Average_Rating < 3.0)')\n",
    "lowratedmovies.head()"
   ]
  },
  {
   "cell_type": "code",
   "execution_count": 4,
   "metadata": {},
   "outputs": [
    {
     "ename": "NameError",
     "evalue": "name 'movies' is not defined",
     "output_type": "error",
     "traceback": [
      "\u001b[1;31m---------------------------------------------------------------------------\u001b[0m",
      "\u001b[1;31mNameError\u001b[0m                                 Traceback (most recent call last)",
      "\u001b[1;32m<ipython-input-4-69100c69bc1f>\u001b[0m in \u001b[0;36m<module>\u001b[1;34m()\u001b[0m\n\u001b[1;32m----> 1\u001b[1;33m \u001b[0mSortedrevenue\u001b[0m\u001b[1;33m=\u001b[0m \u001b[0mmovies\u001b[0m\u001b[1;33m.\u001b[0m\u001b[0msort_values\u001b[0m\u001b[1;33m(\u001b[0m\u001b[1;33m[\u001b[0m\u001b[1;34m'Budget'\u001b[0m\u001b[1;33m]\u001b[0m\u001b[1;33m,\u001b[0m \u001b[0mascending\u001b[0m\u001b[1;33m=\u001b[0m\u001b[1;32mFalse\u001b[0m\u001b[1;33m)\u001b[0m\u001b[1;33m\u001b[0m\u001b[0m\n\u001b[0m",
      "\u001b[1;31mNameError\u001b[0m: name 'movies' is not defined"
     ]
    }
   ],
   "source": [
    "Sortedrevenue= movies.sort_values(['Budget'], ascending=False)"
   ]
  },
  {
   "cell_type": "code",
   "execution_count": 5,
   "metadata": {},
   "outputs": [
    {
     "ename": "NameError",
     "evalue": "name 'Sortedrevenue' is not defined",
     "output_type": "error",
     "traceback": [
      "\u001b[1;31m---------------------------------------------------------------------------\u001b[0m",
      "\u001b[1;31mNameError\u001b[0m                                 Traceback (most recent call last)",
      "\u001b[1;32m<ipython-input-5-2c91f20787cf>\u001b[0m in \u001b[0;36m<module>\u001b[1;34m()\u001b[0m\n\u001b[0;32m      1\u001b[0m \u001b[1;31m#top 5 high revenue movies\u001b[0m\u001b[1;33m\u001b[0m\u001b[1;33m\u001b[0m\u001b[0m\n\u001b[1;32m----> 2\u001b[1;33m \u001b[0mSortedrevenue\u001b[0m\u001b[1;33m.\u001b[0m\u001b[0mhead\u001b[0m\u001b[1;33m(\u001b[0m\u001b[1;33m)\u001b[0m\u001b[1;33m\u001b[0m\u001b[0m\n\u001b[0m",
      "\u001b[1;31mNameError\u001b[0m: name 'Sortedrevenue' is not defined"
     ]
    }
   ],
   "source": [
    "#top 5 high revenue movies\n",
    "Sortedrevenue.head()"
   ]
  },
  {
   "cell_type": "code",
   "execution_count": 6,
   "metadata": {},
   "outputs": [
    {
     "ename": "NameError",
     "evalue": "name 'Sortedrevenue' is not defined",
     "output_type": "error",
     "traceback": [
      "\u001b[1;31m---------------------------------------------------------------------------\u001b[0m",
      "\u001b[1;31mNameError\u001b[0m                                 Traceback (most recent call last)",
      "\u001b[1;32m<ipython-input-6-cfd8be418aef>\u001b[0m in \u001b[0;36m<module>\u001b[1;34m()\u001b[0m\n\u001b[1;32m----> 1\u001b[1;33m \u001b[0mm\u001b[0m\u001b[1;33m=\u001b[0m \u001b[0mSortedrevenue\u001b[0m\u001b[1;33m.\u001b[0m\u001b[0mquery\u001b[0m\u001b[1;33m(\u001b[0m\u001b[1;34m'(Budget > 500)'\u001b[0m\u001b[1;33m)\u001b[0m\u001b[1;33m\u001b[0m\u001b[0m\n\u001b[0m\u001b[0;32m      2\u001b[0m \u001b[0mprint\u001b[0m\u001b[1;33m(\u001b[0m\u001b[1;34m'number of movies with more than half million revenue:'\u001b[0m\u001b[1;33m)\u001b[0m\u001b[1;33m\u001b[0m\u001b[0m\n\u001b[0;32m      3\u001b[0m \u001b[0mlen\u001b[0m\u001b[1;33m(\u001b[0m\u001b[0mm\u001b[0m\u001b[1;33m)\u001b[0m\u001b[1;33m\u001b[0m\u001b[0m\n",
      "\u001b[1;31mNameError\u001b[0m: name 'Sortedrevenue' is not defined"
     ]
    }
   ],
   "source": [
    "m= Sortedrevenue.query('(Budget > 500)')\n",
    "print('number of movies with more than half million revenue:')\n",
    "len(m)"
   ]
  },
  {
   "cell_type": "code",
   "execution_count": 63,
   "metadata": {},
   "outputs": [
    {
     "name": "stdout",
     "output_type": "stream",
     "text": [
      "number of movies with less than half million revenue:\n"
     ]
    },
    {
     "data": {
      "text/plain": [
       "3593"
      ]
     },
     "execution_count": 63,
     "metadata": {},
     "output_type": "execute_result"
    }
   ],
   "source": [
    "n= Sortedrevenue.query('(Budget < 500)')\n",
    "print('number of movies with less than half million revenue:')\n",
    "len(n)"
   ]
  },
  {
   "cell_type": "code",
   "execution_count": 64,
   "metadata": {},
   "outputs": [
    {
     "name": "stdout",
     "output_type": "stream",
     "text": [
      "<class 'pandas.core.frame.DataFrame'>\n",
      "Int64Index: 9184 entries, 0 to 9836\n",
      "Data columns (total 14 columns):\n",
      "Name                  9184 non-null object\n",
      "Year                  9184 non-null float64\n",
      "Genres                9184 non-null object\n",
      "Rating                9184 non-null object\n",
      "Duration_Minutes      9184 non-null float64\n",
      "Actors                9184 non-null object\n",
      "Director              9184 non-null object\n",
      "Average_Rating        9184 non-null float64\n",
      "Budget                9184 non-null float64\n",
      "Opening Weekend       5241 non-null float64\n",
      "Gross US              9184 non-null float64\n",
      "Gross WW              9184 non-null float64\n",
      "Language              9184 non-null object\n",
      "Production Company    9184 non-null object\n",
      "dtypes: float64(7), object(7)\n",
      "memory usage: 1.1+ MB\n"
     ]
    }
   ],
   "source": [
    "movies.info()"
   ]
  },
  {
   "cell_type": "code",
   "execution_count": 65,
   "metadata": {},
   "outputs": [
    {
     "ename": "ModuleNotFoundError",
     "evalue": "No module named 'wordcloud'",
     "output_type": "error",
     "traceback": [
      "\u001b[1;31m---------------------------------------------------------------------------\u001b[0m",
      "\u001b[1;31mModuleNotFoundError\u001b[0m                       Traceback (most recent call last)",
      "\u001b[1;32m<ipython-input-65-5ea9052357e8>\u001b[0m in \u001b[0;36m<module>\u001b[1;34m()\u001b[0m\n\u001b[1;32m----> 1\u001b[1;33m \u001b[1;32mfrom\u001b[0m \u001b[0mwordcloud\u001b[0m \u001b[1;32mimport\u001b[0m \u001b[0mWordCloud\u001b[0m\u001b[1;33m,\u001b[0m \u001b[0mSTOPWORDS\u001b[0m\u001b[1;33m\u001b[0m\u001b[0m\n\u001b[0m\u001b[0;32m      2\u001b[0m \u001b[0mplt\u001b[0m\u001b[1;33m.\u001b[0m\u001b[0msubplots\u001b[0m\u001b[1;33m(\u001b[0m\u001b[0mfigsize\u001b[0m\u001b[1;33m=\u001b[0m\u001b[1;33m(\u001b[0m\u001b[1;36m10\u001b[0m\u001b[1;33m,\u001b[0m\u001b[1;36m10\u001b[0m\u001b[1;33m)\u001b[0m\u001b[1;33m)\u001b[0m\u001b[1;33m\u001b[0m\u001b[0m\n\u001b[0;32m      3\u001b[0m \u001b[0mtext\u001b[0m \u001b[1;33m=\u001b[0m \u001b[1;33m(\u001b[0m\u001b[0mstr\u001b[0m\u001b[1;33m(\u001b[0m\u001b[0mm\u001b[0m\u001b[1;33m[\u001b[0m\u001b[1;34m'Actors'\u001b[0m\u001b[1;33m]\u001b[0m\u001b[1;33m)\u001b[0m\u001b[1;33m)\u001b[0m\u001b[1;33m\u001b[0m\u001b[0m\n\u001b[0;32m      4\u001b[0m wordcloud = WordCloud(\n\u001b[0;32m      5\u001b[0m                           \u001b[0mstopwords\u001b[0m\u001b[1;33m=\u001b[0m\u001b[0mSTOPWORDS\u001b[0m\u001b[1;33m,\u001b[0m\u001b[1;33m\u001b[0m\u001b[0m\n",
      "\u001b[1;31mModuleNotFoundError\u001b[0m: No module named 'wordcloud'"
     ]
    }
   ],
   "source": [
    "from wordcloud import WordCloud, STOPWORDS\n",
    "plt.subplots(figsize=(10,10))\n",
    "text = (str(m['Actors']))\n",
    "wordcloud = WordCloud(\n",
    "                          stopwords=STOPWORDS,\n",
    "                          background_color='white',\n",
    "                          width=1200,\n",
    "                          height=1000\n",
    "                         ).generate(text)\n",
    "\n",
    "\n",
    "plt.imshow(wordcloud)\n",
    "plt.title('ACTORS IN HIGH REVENUE MOVIES')\n",
    "plt.axis('off')\n",
    "plt.show()"
   ]
  },
  {
   "cell_type": "code",
   "execution_count": 66,
   "metadata": {},
   "outputs": [
    {
     "ename": "ModuleNotFoundError",
     "evalue": "No module named 'wordcloud'",
     "output_type": "error",
     "traceback": [
      "\u001b[1;31m---------------------------------------------------------------------------\u001b[0m",
      "\u001b[1;31mModuleNotFoundError\u001b[0m                       Traceback (most recent call last)",
      "\u001b[1;32m<ipython-input-66-ac7b6ff65c8e>\u001b[0m in \u001b[0;36m<module>\u001b[1;34m()\u001b[0m\n\u001b[1;32m----> 1\u001b[1;33m \u001b[1;32mfrom\u001b[0m \u001b[0mwordcloud\u001b[0m \u001b[1;32mimport\u001b[0m \u001b[0mWordCloud\u001b[0m\u001b[1;33m,\u001b[0m \u001b[0mSTOPWORDS\u001b[0m\u001b[1;33m\u001b[0m\u001b[0m\n\u001b[0m\u001b[0;32m      2\u001b[0m \u001b[0mplt\u001b[0m\u001b[1;33m.\u001b[0m\u001b[0msubplots\u001b[0m\u001b[1;33m(\u001b[0m\u001b[0mfigsize\u001b[0m\u001b[1;33m=\u001b[0m\u001b[1;33m(\u001b[0m\u001b[1;36m10\u001b[0m\u001b[1;33m,\u001b[0m\u001b[1;36m10\u001b[0m\u001b[1;33m)\u001b[0m\u001b[1;33m)\u001b[0m\u001b[1;33m\u001b[0m\u001b[0m\n\u001b[0;32m      3\u001b[0m \u001b[0mtext\u001b[0m \u001b[1;33m=\u001b[0m \u001b[1;33m(\u001b[0m\u001b[0mstr\u001b[0m\u001b[1;33m(\u001b[0m\u001b[0mn\u001b[0m\u001b[1;33m[\u001b[0m\u001b[1;34m'Actors'\u001b[0m\u001b[1;33m]\u001b[0m\u001b[1;33m)\u001b[0m\u001b[1;33m)\u001b[0m\u001b[1;33m\u001b[0m\u001b[0m\n\u001b[0;32m      4\u001b[0m wordcloud = WordCloud(\n\u001b[0;32m      5\u001b[0m                           \u001b[0mstopwords\u001b[0m\u001b[1;33m=\u001b[0m\u001b[0mSTOPWORDS\u001b[0m\u001b[1;33m,\u001b[0m\u001b[1;33m\u001b[0m\u001b[0m\n",
      "\u001b[1;31mModuleNotFoundError\u001b[0m: No module named 'wordcloud'"
     ]
    }
   ],
   "source": [
    "from wordcloud import WordCloud, STOPWORDS\n",
    "plt.subplots(figsize=(10,10))\n",
    "text = (str(n['Actors']))\n",
    "wordcloud = WordCloud(\n",
    "                          stopwords=STOPWORDS,\n",
    "                          background_color='white',\n",
    "                          width=1200,\n",
    "                          height=1000\n",
    "                         ).generate(text)\n",
    "\n",
    "\n",
    "plt.imshow(wordcloud)\n",
    "plt.title('ACTORS IN LOW REVENUE MOVIES')\n",
    "plt.axis('off')\n",
    "plt.show()"
   ]
  },
  {
   "cell_type": "code",
   "execution_count": 67,
   "metadata": {},
   "outputs": [
    {
     "data": {
      "text/plain": [
       "['Year',\n",
       " 'Duration_Minutes',\n",
       " 'Average_Rating',\n",
       " 'Budget',\n",
       " 'Opening Weekend',\n",
       " 'Gross US',\n",
       " 'Gross WW']"
      ]
     },
     "execution_count": 67,
     "metadata": {},
     "output_type": "execute_result"
    }
   ],
   "source": [
    "numeric_features=movies._get_numeric_data().columns.values.tolist()\n",
    "numeric_features"
   ]
  },
  {
   "cell_type": "markdown",
   "metadata": {},
   "source": [
    "# Correlation heatmap"
   ]
  },
  {
   "cell_type": "code",
   "execution_count": 68,
   "metadata": {},
   "outputs": [
    {
     "data": {
      "text/plain": [
       "<matplotlib.axes._subplots.AxesSubplot at 0x21aa94b7ba8>"
      ]
     },
     "execution_count": 68,
     "metadata": {},
     "output_type": "execute_result"
    },
    {
     "data": {
      "image/png": "[encoded data removed]",
      "text/plain": [
       "<Figure size 432x288 with 2 Axes>"
      ]
     },
     "metadata": {},
     "output_type": "display_data"
    }
   ],
   "source": [
    "col = list(movies.describe().columns)\n",
    "features=col\n",
    "features\n",
    "sns.heatmap(movies[features].corr())"
   ]
  },
  {
   "cell_type": "code",
   "execution_count": 69,
   "metadata": {},
   "outputs": [
    {
     "data": {
      "text/html": [
       "<div>\n",
       "<style scoped>\n",
       "    .dataframe tbody tr th:only-of-type {\n",
       "        vertical-align: middle;\n",
       "    }\n",
       "\n",
       "    .dataframe tbody tr th {\n",
       "        vertical-align: top;\n",
       "    }\n",
       "\n",
       "    .dataframe thead th {\n",
       "        text-align: right;\n",
       "    }\n",
       "</style>\n",
       "<table border=\"1\" class=\"dataframe\">\n",
       "  <thead>\n",
       "    <tr style=\"text-align: right;\">\n",
       "      <th></th>\n",
       "      <th>Name</th>\n",
       "      <th>Year</th>\n",
       "      <th>Genres</th>\n",
       "      <th>Rating</th>\n",
       "      <th>Duration_Minutes</th>\n",
       "      <th>Actors</th>\n",
       "      <th>Director</th>\n",
       "      <th>Average_Rating</th>\n",
       "      <th>Budget</th>\n",
       "      <th>Opening Weekend</th>\n",
       "      <th>Gross US</th>\n",
       "      <th>Gross WW</th>\n",
       "      <th>Language</th>\n",
       "      <th>Production Company</th>\n",
       "    </tr>\n",
       "  </thead>\n",
       "  <tbody>\n",
       "    <tr>\n",
       "      <th>0</th>\n",
       "      <td>Pulp Fiction</td>\n",
       "      <td>1994.0</td>\n",
       "      <td>['Crime', 'Drama']</td>\n",
       "      <td>R</td>\n",
       "      <td>154.0</td>\n",
       "      <td>['John Travolta', 'Uma Thurman', 'Samuel L. Ja...</td>\n",
       "      <td>['Quentin Tarantino']</td>\n",
       "      <td>8.9</td>\n",
       "      <td>8000000.0</td>\n",
       "      <td>9311882.0</td>\n",
       "      <td>107928762.0</td>\n",
       "      <td>213928762.0</td>\n",
       "      <td>['English', 'Spanish', 'French']</td>\n",
       "      <td>['Miramax', 'ABandApart', 'JerseyFilms']</td>\n",
       "    </tr>\n",
       "    <tr>\n",
       "      <th>1</th>\n",
       "      <td>The Amazing Spider-Man 2</td>\n",
       "      <td>2014.0</td>\n",
       "      <td>['Action', 'Adventure', 'Sci-Fi']</td>\n",
       "      <td>PG-13</td>\n",
       "      <td>142.0</td>\n",
       "      <td>['Andrew Garfield', 'Emma Stone', 'Jamie Foxx'...</td>\n",
       "      <td>['Marc Webb']</td>\n",
       "      <td>6.6</td>\n",
       "      <td>200000000.0</td>\n",
       "      <td>91608337.0</td>\n",
       "      <td>202853933.0</td>\n",
       "      <td>708982323.0</td>\n",
       "      <td>['English']</td>\n",
       "      <td>['MarvelEnterprises', 'AviAradProductions', 'C...</td>\n",
       "    </tr>\n",
       "    <tr>\n",
       "      <th>2</th>\n",
       "      <td>The Shawshank Redemption</td>\n",
       "      <td>1994.0</td>\n",
       "      <td>['Drama']</td>\n",
       "      <td>R</td>\n",
       "      <td>142.0</td>\n",
       "      <td>['Tim Robbins', 'Morgan Freeman', 'Bob Gunton'...</td>\n",
       "      <td>['Frank Darabont']</td>\n",
       "      <td>9.3</td>\n",
       "      <td>25000000.0</td>\n",
       "      <td>727326.0</td>\n",
       "      <td>28341469.0</td>\n",
       "      <td>58500000.0</td>\n",
       "      <td>['English']</td>\n",
       "      <td>['CastleRockEntertainment']</td>\n",
       "    </tr>\n",
       "    <tr>\n",
       "      <th>3</th>\n",
       "      <td>Star Wars: Episode IV - A New Hope</td>\n",
       "      <td>1977.0</td>\n",
       "      <td>['Action', 'Adventure', 'Fantasy', 'Sci-Fi']</td>\n",
       "      <td>PG</td>\n",
       "      <td>121.0</td>\n",
       "      <td>['Mark Hamill', 'Harrison Ford', 'Carrie Fishe...</td>\n",
       "      <td>['George Lucas']</td>\n",
       "      <td>8.6</td>\n",
       "      <td>11000000.0</td>\n",
       "      <td>1554475.0</td>\n",
       "      <td>322740140.0</td>\n",
       "      <td>775398007.0</td>\n",
       "      <td>['English']</td>\n",
       "      <td>['Lucasfilm', 'TwentiethCenturyFox']</td>\n",
       "    </tr>\n",
       "    <tr>\n",
       "      <th>4</th>\n",
       "      <td>Back to the Future</td>\n",
       "      <td>1985.0</td>\n",
       "      <td>['Adventure', 'Comedy', 'Sci-Fi']</td>\n",
       "      <td>PG</td>\n",
       "      <td>116.0</td>\n",
       "      <td>['Michael J. Fox', 'Christopher Lloyd', 'Lea T...</td>\n",
       "      <td>['Robert Zemeckis']</td>\n",
       "      <td>8.5</td>\n",
       "      <td>19000000.0</td>\n",
       "      <td>11332134.0</td>\n",
       "      <td>210609762.0</td>\n",
       "      <td>381109762.0</td>\n",
       "      <td>['English']</td>\n",
       "      <td>['UniversalPictures', 'AmblinEntertainment', '...</td>\n",
       "    </tr>\n",
       "  </tbody>\n",
       "</table>\n",
       "</div>"
      ],
      "text/plain": [
       "                                 Name    Year  \\\n",
       "0                        Pulp Fiction  1994.0   \n",
       "1            The Amazing Spider-Man 2  2014.0   \n",
       "2            The Shawshank Redemption  1994.0   \n",
       "3  Star Wars: Episode IV - A New Hope  1977.0   \n",
       "4                  Back to the Future  1985.0   \n",
       "\n",
       "                                         Genres Rating  Duration_Minutes  \\\n",
       "0                            ['Crime', 'Drama']      R             154.0   \n",
       "1             ['Action', 'Adventure', 'Sci-Fi']  PG-13             142.0   \n",
       "2                                     ['Drama']      R             142.0   \n",
       "3  ['Action', 'Adventure', 'Fantasy', 'Sci-Fi']     PG             121.0   \n",
       "4             ['Adventure', 'Comedy', 'Sci-Fi']     PG             116.0   \n",
       "\n",
       "                                              Actors               Director  \\\n",
       "0  ['John Travolta', 'Uma Thurman', 'Samuel L. Ja...  ['Quentin Tarantino']   \n",
       "1  ['Andrew Garfield', 'Emma Stone', 'Jamie Foxx'...          ['Marc Webb']   \n",
       "2  ['Tim Robbins', 'Morgan Freeman', 'Bob Gunton'...     ['Frank Darabont']   \n",
       "3  ['Mark Hamill', 'Harrison Ford', 'Carrie Fishe...       ['George Lucas']   \n",
       "4  ['Michael J. Fox', 'Christopher Lloyd', 'Lea T...    ['Robert Zemeckis']   \n",
       "\n",
       "   Average_Rating       Budget  Opening Weekend     Gross US     Gross WW  \\\n",
       "0             8.9    8000000.0        9311882.0  107928762.0  213928762.0   \n",
       "1             6.6  200000000.0       91608337.0  202853933.0  708982323.0   \n",
       "2             9.3   25000000.0         727326.0   28341469.0   58500000.0   \n",
       "3             8.6   11000000.0        1554475.0  322740140.0  775398007.0   \n",
       "4             8.5   19000000.0       11332134.0  210609762.0  381109762.0   \n",
       "\n",
       "                           Language  \\\n",
       "0  ['English', 'Spanish', 'French']   \n",
       "1                       ['English']   \n",
       "2                       ['English']   \n",
       "3                       ['English']   \n",
       "4                       ['English']   \n",
       "\n",
       "                                  Production Company  \n",
       "0           ['Miramax', 'ABandApart', 'JerseyFilms']  \n",
       "1  ['MarvelEnterprises', 'AviAradProductions', 'C...  \n",
       "2                        ['CastleRockEntertainment']  \n",
       "3               ['Lucasfilm', 'TwentiethCenturyFox']  \n",
       "4  ['UniversalPictures', 'AmblinEntertainment', '...  "
      ]
     },
     "execution_count": 69,
     "metadata": {},
     "output_type": "execute_result"
    }
   ],
   "source": [
    "movies.head()"
   ]
  },
  {
   "cell_type": "markdown",
   "metadata": {},
   "source": [
    "Dummy Encoding for Genres:"
   ]
  },
  {
   "cell_type": "code",
   "execution_count": 70,
   "metadata": {},
   "outputs": [
    {
     "data": {
      "text/html": [
       "<div>\n",
       "<style scoped>\n",
       "    .dataframe tbody tr th:only-of-type {\n",
       "        vertical-align: middle;\n",
       "    }\n",
       "\n",
       "    .dataframe tbody tr th {\n",
       "        vertical-align: top;\n",
       "    }\n",
       "\n",
       "    .dataframe thead th {\n",
       "        text-align: right;\n",
       "    }\n",
       "</style>\n",
       "<table border=\"1\" class=\"dataframe\">\n",
       "  <thead>\n",
       "    <tr style=\"text-align: right;\">\n",
       "      <th></th>\n",
       "      <th>Name</th>\n",
       "      <th>Year</th>\n",
       "      <th>Genres</th>\n",
       "      <th>Rating</th>\n",
       "      <th>Duration_Minutes</th>\n",
       "      <th>Actors</th>\n",
       "      <th>Director</th>\n",
       "      <th>Average_Rating</th>\n",
       "      <th>Budget</th>\n",
       "      <th>Opening Weekend</th>\n",
       "      <th>Gross US</th>\n",
       "      <th>Gross WW</th>\n",
       "      <th>Language</th>\n",
       "      <th>Production Company</th>\n",
       "    </tr>\n",
       "  </thead>\n",
       "  <tbody>\n",
       "    <tr>\n",
       "      <th>0</th>\n",
       "      <td>Pulp Fiction</td>\n",
       "      <td>1994.0</td>\n",
       "      <td>'Crime', 'Drama'</td>\n",
       "      <td>R</td>\n",
       "      <td>154.0</td>\n",
       "      <td>['John Travolta', 'Uma Thurman', 'Samuel L. Ja...</td>\n",
       "      <td>['Quentin Tarantino']</td>\n",
       "      <td>8.9</td>\n",
       "      <td>8000000.0</td>\n",
       "      <td>9311882.0</td>\n",
       "      <td>107928762.0</td>\n",
       "      <td>213928762.0</td>\n",
       "      <td>['English', 'Spanish', 'French']</td>\n",
       "      <td>['Miramax', 'ABandApart', 'JerseyFilms']</td>\n",
       "    </tr>\n",
       "    <tr>\n",
       "      <th>1</th>\n",
       "      <td>The Amazing Spider-Man 2</td>\n",
       "      <td>2014.0</td>\n",
       "      <td>'Action', 'Adventure', 'Sci-Fi'</td>\n",
       "      <td>PG-13</td>\n",
       "      <td>142.0</td>\n",
       "      <td>['Andrew Garfield', 'Emma Stone', 'Jamie Foxx'...</td>\n",
       "      <td>['Marc Webb']</td>\n",
       "      <td>6.6</td>\n",
       "      <td>200000000.0</td>\n",
       "      <td>91608337.0</td>\n",
       "      <td>202853933.0</td>\n",
       "      <td>708982323.0</td>\n",
       "      <td>['English']</td>\n",
       "      <td>['MarvelEnterprises', 'AviAradProductions', 'C...</td>\n",
       "    </tr>\n",
       "    <tr>\n",
       "      <th>2</th>\n",
       "      <td>The Shawshank Redemption</td>\n",
       "      <td>1994.0</td>\n",
       "      <td>'Drama'</td>\n",
       "      <td>R</td>\n",
       "      <td>142.0</td>\n",
       "      <td>['Tim Robbins', 'Morgan Freeman', 'Bob Gunton'...</td>\n",
       "      <td>['Frank Darabont']</td>\n",
       "      <td>9.3</td>\n",
       "      <td>25000000.0</td>\n",
       "      <td>727326.0</td>\n",
       "      <td>28341469.0</td>\n",
       "      <td>58500000.0</td>\n",
       "      <td>['English']</td>\n",
       "      <td>['CastleRockEntertainment']</td>\n",
       "    </tr>\n",
       "    <tr>\n",
       "      <th>3</th>\n",
       "      <td>Star Wars: Episode IV - A New Hope</td>\n",
       "      <td>1977.0</td>\n",
       "      <td>'Action', 'Adventure', 'Fantasy', 'Sci-Fi'</td>\n",
       "      <td>PG</td>\n",
       "      <td>121.0</td>\n",
       "      <td>['Mark Hamill', 'Harrison Ford', 'Carrie Fishe...</td>\n",
       "      <td>['George Lucas']</td>\n",
       "      <td>8.6</td>\n",
       "      <td>11000000.0</td>\n",
       "      <td>1554475.0</td>\n",
       "      <td>322740140.0</td>\n",
       "      <td>775398007.0</td>\n",
       "      <td>['English']</td>\n",
       "      <td>['Lucasfilm', 'TwentiethCenturyFox']</td>\n",
       "    </tr>\n",
       "    <tr>\n",
       "      <th>4</th>\n",
       "      <td>Back to the Future</td>\n",
       "      <td>1985.0</td>\n",
       "      <td>'Adventure', 'Comedy', 'Sci-Fi'</td>\n",
       "      <td>PG</td>\n",
       "      <td>116.0</td>\n",
       "      <td>['Michael J. Fox', 'Christopher Lloyd', 'Lea T...</td>\n",
       "      <td>['Robert Zemeckis']</td>\n",
       "      <td>8.5</td>\n",
       "      <td>19000000.0</td>\n",
       "      <td>11332134.0</td>\n",
       "      <td>210609762.0</td>\n",
       "      <td>381109762.0</td>\n",
       "      <td>['English']</td>\n",
       "      <td>['UniversalPictures', 'AmblinEntertainment', '...</td>\n",
       "    </tr>\n",
       "  </tbody>\n",
       "</table>\n",
       "</div>"
      ],
      "text/plain": [
       "                                 Name    Year  \\\n",
       "0                        Pulp Fiction  1994.0   \n",
       "1            The Amazing Spider-Man 2  2014.0   \n",
       "2            The Shawshank Redemption  1994.0   \n",
       "3  Star Wars: Episode IV - A New Hope  1977.0   \n",
       "4                  Back to the Future  1985.0   \n",
       "\n",
       "                                       Genres Rating  Duration_Minutes  \\\n",
       "0                            'Crime', 'Drama'      R             154.0   \n",
       "1             'Action', 'Adventure', 'Sci-Fi'  PG-13             142.0   \n",
       "2                                     'Drama'      R             142.0   \n",
       "3  'Action', 'Adventure', 'Fantasy', 'Sci-Fi'     PG             121.0   \n",
       "4             'Adventure', 'Comedy', 'Sci-Fi'     PG             116.0   \n",
       "\n",
       "                                              Actors               Director  \\\n",
       "0  ['John Travolta', 'Uma Thurman', 'Samuel L. Ja...  ['Quentin Tarantino']   \n",
       "1  ['Andrew Garfield', 'Emma Stone', 'Jamie Foxx'...          ['Marc Webb']   \n",
       "2  ['Tim Robbins', 'Morgan Freeman', 'Bob Gunton'...     ['Frank Darabont']   \n",
       "3  ['Mark Hamill', 'Harrison Ford', 'Carrie Fishe...       ['George Lucas']   \n",
       "4  ['Michael J. Fox', 'Christopher Lloyd', 'Lea T...    ['Robert Zemeckis']   \n",
       "\n",
       "   Average_Rating       Budget  Opening Weekend     Gross US     Gross WW  \\\n",
       "0             8.9    8000000.0        9311882.0  107928762.0  213928762.0   \n",
       "1             6.6  200000000.0       91608337.0  202853933.0  708982323.0   \n",
       "2             9.3   25000000.0         727326.0   28341469.0   58500000.0   \n",
       "3             8.6   11000000.0        1554475.0  322740140.0  775398007.0   \n",
       "4             8.5   19000000.0       11332134.0  210609762.0  381109762.0   \n",
       "\n",
       "                           Language  \\\n",
       "0  ['English', 'Spanish', 'French']   \n",
       "1                       ['English']   \n",
       "2                       ['English']   \n",
       "3                       ['English']   \n",
       "4                       ['English']   \n",
       "\n",
       "                                  Production Company  \n",
       "0           ['Miramax', 'ABandApart', 'JerseyFilms']  \n",
       "1  ['MarvelEnterprises', 'AviAradProductions', 'C...  \n",
       "2                        ['CastleRockEntertainment']  \n",
       "3               ['Lucasfilm', 'TwentiethCenturyFox']  \n",
       "4  ['UniversalPictures', 'AmblinEntertainment', '...  "
      ]
     },
     "execution_count": 70,
     "metadata": {},
     "output_type": "execute_result"
    }
   ],
   "source": [
    "movies[\"Genres\"] = movies[\"Genres\"].str.replace('[','')\n",
    "movies[\"Genres\"] = movies[\"Genres\"].str.replace(']','')\n",
    "movies.head()"
   ]
  },
  {
   "cell_type": "code",
   "execution_count": 71,
   "metadata": {},
   "outputs": [],
   "source": [
    "#movies= movies.set_index('Name').Genres.str.split(',', expand=True).stack() # this is converting the dataframe to series.. do we need this??"
   ]
  },
  {
   "cell_type": "code",
   "execution_count": 72,
   "metadata": {},
   "outputs": [
    {
     "data": {
      "text/html": [
       "<div>\n",
       "<style scoped>\n",
       "    .dataframe tbody tr th:only-of-type {\n",
       "        vertical-align: middle;\n",
       "    }\n",
       "\n",
       "    .dataframe tbody tr th {\n",
       "        vertical-align: top;\n",
       "    }\n",
       "\n",
       "    .dataframe thead th {\n",
       "        text-align: right;\n",
       "    }\n",
       "</style>\n",
       "<table border=\"1\" class=\"dataframe\">\n",
       "  <thead>\n",
       "    <tr style=\"text-align: right;\">\n",
       "      <th></th>\n",
       "      <th>Name</th>\n",
       "      <th>Year</th>\n",
       "      <th>Genres</th>\n",
       "      <th>Rating</th>\n",
       "      <th>Duration_Minutes</th>\n",
       "      <th>Actors</th>\n",
       "      <th>Director</th>\n",
       "      <th>Average_Rating</th>\n",
       "      <th>Budget</th>\n",
       "      <th>Opening Weekend</th>\n",
       "      <th>Gross US</th>\n",
       "      <th>Gross WW</th>\n",
       "      <th>Language</th>\n",
       "      <th>Production Company</th>\n",
       "    </tr>\n",
       "  </thead>\n",
       "  <tbody>\n",
       "    <tr>\n",
       "      <th>0</th>\n",
       "      <td>Pulp Fiction</td>\n",
       "      <td>1994.0</td>\n",
       "      <td>'Crime', 'Drama'</td>\n",
       "      <td>R</td>\n",
       "      <td>154.0</td>\n",
       "      <td>['John Travolta', 'Uma Thurman', 'Samuel L. Ja...</td>\n",
       "      <td>['Quentin Tarantino']</td>\n",
       "      <td>8.9</td>\n",
       "      <td>8000000.0</td>\n",
       "      <td>9311882.0</td>\n",
       "      <td>107928762.0</td>\n",
       "      <td>213928762.0</td>\n",
       "      <td>['English', 'Spanish', 'French']</td>\n",
       "      <td>['Miramax', 'ABandApart', 'JerseyFilms']</td>\n",
       "    </tr>\n",
       "    <tr>\n",
       "      <th>1</th>\n",
       "      <td>The Amazing Spider-Man 2</td>\n",
       "      <td>2014.0</td>\n",
       "      <td>'Action', 'Adventure', 'Sci-Fi'</td>\n",
       "      <td>PG-13</td>\n",
       "      <td>142.0</td>\n",
       "      <td>['Andrew Garfield', 'Emma Stone', 'Jamie Foxx'...</td>\n",
       "      <td>['Marc Webb']</td>\n",
       "      <td>6.6</td>\n",
       "      <td>200000000.0</td>\n",
       "      <td>91608337.0</td>\n",
       "      <td>202853933.0</td>\n",
       "      <td>708982323.0</td>\n",
       "      <td>['English']</td>\n",
       "      <td>['MarvelEnterprises', 'AviAradProductions', 'C...</td>\n",
       "    </tr>\n",
       "    <tr>\n",
       "      <th>2</th>\n",
       "      <td>The Shawshank Redemption</td>\n",
       "      <td>1994.0</td>\n",
       "      <td>'Drama'</td>\n",
       "      <td>R</td>\n",
       "      <td>142.0</td>\n",
       "      <td>['Tim Robbins', 'Morgan Freeman', 'Bob Gunton'...</td>\n",
       "      <td>['Frank Darabont']</td>\n",
       "      <td>9.3</td>\n",
       "      <td>25000000.0</td>\n",
       "      <td>727326.0</td>\n",
       "      <td>28341469.0</td>\n",
       "      <td>58500000.0</td>\n",
       "      <td>['English']</td>\n",
       "      <td>['CastleRockEntertainment']</td>\n",
       "    </tr>\n",
       "    <tr>\n",
       "      <th>3</th>\n",
       "      <td>Star Wars: Episode IV - A New Hope</td>\n",
       "      <td>1977.0</td>\n",
       "      <td>'Action', 'Adventure', 'Fantasy', 'Sci-Fi'</td>\n",
       "      <td>PG</td>\n",
       "      <td>121.0</td>\n",
       "      <td>['Mark Hamill', 'Harrison Ford', 'Carrie Fishe...</td>\n",
       "      <td>['George Lucas']</td>\n",
       "      <td>8.6</td>\n",
       "      <td>11000000.0</td>\n",
       "      <td>1554475.0</td>\n",
       "      <td>322740140.0</td>\n",
       "      <td>775398007.0</td>\n",
       "      <td>['English']</td>\n",
       "      <td>['Lucasfilm', 'TwentiethCenturyFox']</td>\n",
       "    </tr>\n",
       "    <tr>\n",
       "      <th>4</th>\n",
       "      <td>Back to the Future</td>\n",
       "      <td>1985.0</td>\n",
       "      <td>'Adventure', 'Comedy', 'Sci-Fi'</td>\n",
       "      <td>PG</td>\n",
       "      <td>116.0</td>\n",
       "      <td>['Michael J. Fox', 'Christopher Lloyd', 'Lea T...</td>\n",
       "      <td>['Robert Zemeckis']</td>\n",
       "      <td>8.5</td>\n",
       "      <td>19000000.0</td>\n",
       "      <td>11332134.0</td>\n",
       "      <td>210609762.0</td>\n",
       "      <td>381109762.0</td>\n",
       "      <td>['English']</td>\n",
       "      <td>['UniversalPictures', 'AmblinEntertainment', '...</td>\n",
       "    </tr>\n",
       "  </tbody>\n",
       "</table>\n",
       "</div>"
      ],
      "text/plain": [
       "                                 Name    Year  \\\n",
       "0                        Pulp Fiction  1994.0   \n",
       "1            The Amazing Spider-Man 2  2014.0   \n",
       "2            The Shawshank Redemption  1994.0   \n",
       "3  Star Wars: Episode IV - A New Hope  1977.0   \n",
       "4                  Back to the Future  1985.0   \n",
       "\n",
       "                                       Genres Rating  Duration_Minutes  \\\n",
       "0                            'Crime', 'Drama'      R             154.0   \n",
       "1             'Action', 'Adventure', 'Sci-Fi'  PG-13             142.0   \n",
       "2                                     'Drama'      R             142.0   \n",
       "3  'Action', 'Adventure', 'Fantasy', 'Sci-Fi'     PG             121.0   \n",
       "4             'Adventure', 'Comedy', 'Sci-Fi'     PG             116.0   \n",
       "\n",
       "                                              Actors               Director  \\\n",
       "0  ['John Travolta', 'Uma Thurman', 'Samuel L. Ja...  ['Quentin Tarantino']   \n",
       "1  ['Andrew Garfield', 'Emma Stone', 'Jamie Foxx'...          ['Marc Webb']   \n",
       "2  ['Tim Robbins', 'Morgan Freeman', 'Bob Gunton'...     ['Frank Darabont']   \n",
       "3  ['Mark Hamill', 'Harrison Ford', 'Carrie Fishe...       ['George Lucas']   \n",
       "4  ['Michael J. Fox', 'Christopher Lloyd', 'Lea T...    ['Robert Zemeckis']   \n",
       "\n",
       "   Average_Rating       Budget  Opening Weekend     Gross US     Gross WW  \\\n",
       "0             8.9    8000000.0        9311882.0  107928762.0  213928762.0   \n",
       "1             6.6  200000000.0       91608337.0  202853933.0  708982323.0   \n",
       "2             9.3   25000000.0         727326.0   28341469.0   58500000.0   \n",
       "3             8.6   11000000.0        1554475.0  322740140.0  775398007.0   \n",
       "4             8.5   19000000.0       11332134.0  210609762.0  381109762.0   \n",
       "\n",
       "                           Language  \\\n",
       "0  ['English', 'Spanish', 'French']   \n",
       "1                       ['English']   \n",
       "2                       ['English']   \n",
       "3                       ['English']   \n",
       "4                       ['English']   \n",
       "\n",
       "                                  Production Company  \n",
       "0           ['Miramax', 'ABandApart', 'JerseyFilms']  \n",
       "1  ['MarvelEnterprises', 'AviAradProductions', 'C...  \n",
       "2                        ['CastleRockEntertainment']  \n",
       "3               ['Lucasfilm', 'TwentiethCenturyFox']  \n",
       "4  ['UniversalPictures', 'AmblinEntertainment', '...  "
      ]
     },
     "execution_count": 72,
     "metadata": {},
     "output_type": "execute_result"
    }
   ],
   "source": [
    "movies.head(5)"
   ]
  },
  {
   "cell_type": "code",
   "execution_count": null,
   "metadata": {},
   "outputs": [],
   "source": [
    "pd.get_dummies(movies).groupby(level=0).sum()"
   ]
  },
  {
   "cell_type": "code",
   "execution_count": null,
   "metadata": {},
   "outputs": [],
   "source": [
    "movies.to_excel('output.xlsx')"
   ]
  },
  {
   "cell_type": "code",
   "execution_count": null,
   "metadata": {},
   "outputs": [],
   "source": [
    "movies = movies[~((movies['Year'] == 0) & (movies['Rating'] == 'Unrated') & (movies['Duration_Minutes'] == -1) & (movies['Actors'] == \" \")& (movies['Average_Rating'] == -1) & (movies['Director'] == \" \")& (movies['Budget'] == -1))]\n",
    "#remove "
   ]
  },
  {
   "cell_type": "code",
   "execution_count": null,
   "metadata": {},
   "outputs": [],
   "source": []
  }
 ],
 "metadata": {
  "kernelspec": {
   "display_name": "Python 3",
   "language": "python",
   "name": "python3"
  },
  "language_info": {
   "codemirror_mode": {
    "name": "ipython",
    "version": 3
   },
   "file_extension": ".py",
   "mimetype": "text/x-python",
   "name": "python",
   "nbconvert_exporter": "python",
   "pygments_lexer": "ipython3",
   "version": "3.6.5"
  }
 },
 "nbformat": 4,
 "nbformat_minor": 2
}
